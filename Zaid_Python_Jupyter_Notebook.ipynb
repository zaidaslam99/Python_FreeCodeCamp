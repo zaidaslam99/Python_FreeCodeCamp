{
 "cells": [
  {
   "cell_type": "code",
   "execution_count": 6,
   "id": "35eae5d9",
   "metadata": {},
   "outputs": [
    {
     "name": "stdout",
     "output_type": "stream",
     "text": [
      "Enter the first test score: 90\n",
      "Enter the second test score: 80\n",
      "Enter the third test score: 100\n",
      "The average score is 90.0\n"
     ]
    }
   ],
   "source": [
    "# Get three test scores and assign them to the \n",
    "# test1, test2, and test3 variables.\n",
    "\n",
    "test1 = float(input(\"Enter the first test score: \"))\n",
    "test2 = float(input(\"Enter the second test score: \"))\n",
    "test3 = float(input(\"Enter the third test score: \"))\n",
    "\n",
    "# Calculate the average of the three scores\n",
    "# and assign the results to the average variable.\n",
    "\n",
    "average = (test1 + test2 + test3) / 3.0\n",
    "\n",
    "# Display the message.\n",
    "\n",
    "print(\"The average score is\", average)\n"
   ]
  },
  {
   "cell_type": "code",
   "execution_count": 15,
   "id": "70a8c717",
   "metadata": {},
   "outputs": [
    {
     "name": "stdout",
     "output_type": "stream",
     "text": [
      "Enter the desired future value: 10000.0\n",
      "Enter the annual interest rate: 0.05\n",
      "Enter the number of years the money will grow: 10\n",
      "You will need to deposit this amount: 6139.132535407592\n"
     ]
    }
   ],
   "source": [
    "# Get the desired future value.\n",
    "future_value = float(input(\"Enter the desired future value: \"))\n",
    "\n",
    "# Get the annual interest rate.\n",
    "rate = float (input(\"Enter the annual interest rate: \"))\n",
    "\n",
    "# Get the number of years that the money will appreciate.\n",
    "years = int(input(\"Enter the number of years the money will grow: \"))\n",
    "\n",
    "# Calculate the amount needed to deposit.\n",
    "present_value = future_value / (1.0 + rate)**years\n",
    "\n",
    "# Display the amount needed to deposit.\n",
    "print(\"You will need to deposit this amount:\", present_value)\n",
    "\n",
    "\n"
   ]
  },
  {
   "cell_type": "code",
   "execution_count": 12,
   "id": "f16d639b",
   "metadata": {},
   "outputs": [
    {
     "name": "stdout",
     "output_type": "stream",
     "text": [
      "Enter the number of seconds: 11730\n",
      "Here is the time in hours, minutes, and seconds:\n",
      "Hours 3.0\n",
      "Minutes 15.0\n",
      "Seconds 30.0\n"
     ]
    }
   ],
   "source": [
    "# Get a number of seconds from the users.\n",
    "total_seconds = float(input(\"Enter the number of seconds: \"))\n",
    "\n",
    "# Get the number of hours.\n",
    "hours = total_seconds // 3600\n",
    "\n",
    "# Get the number of remaining minutes.\n",
    "minutes = (total_seconds // 60) % 60\n",
    "\n",
    "# Get the number of remaining seconds.\n",
    "seconds = total_seconds % 60\n",
    "\n",
    "# Display the results.\n",
    "print(\"Here is the time in hours, minutes, and seconds:\")\n",
    "print(\"Hours\", hours)\n",
    "print(\"Minutes\", minutes)\n",
    "print(\"Seconds\", seconds)\n",
    "\n",
    "\n",
    "#-------------------------------------------------------------------------------------------\n",
    "\n",
    "# SUMMARY:\n",
    "\n",
    "# The input number is float for (Enter the number in seconds: ) -> 11730\n",
    "# We are learning to use % here.\n",
    "# Why 3600? well 3600 seconds equal an hour -> number of hours\n",
    "# Why divide // 60? -> total number of minutes -> 11730 // 60 = 195.5 -> 195.5 % 60 = 15.5\n",
    "    # why 15 and not 15.5? -> float hasn't been specified -> minutes variable truncates and takes int value\n",
    "# Why total seconds % 60 -> 30.0 -> you have to work backwards -> 60 * 195 = 11700\n",
    "    # so now 11730 - 11700 = 30.0"
   ]
  },
  {
   "cell_type": "code",
   "execution_count": 2,
   "id": "36c53354",
   "metadata": {},
   "outputs": [
    {
     "name": "stdout",
     "output_type": "stream",
     "text": [
      "One Two Three\n",
      "One Two Three\n"
     ]
    }
   ],
   "source": [
    "print(\"One\", \"Two\", \"Three\", sep=\" \")\n",
    "\n",
    "print(\"One\", end=\" \")\n",
    "print(\"Two\", end=\" \")\n",
    "print(\"Three\")\n",
    "\n",
    "#--------------------------------------------------------------------\n",
    "\n",
    "# SUMMARY:\n",
    "# Notice how sep = \" \" and end = \" \" and their forms.\n",
    "    # The best way to look at them is that one is kind of used towards the end\n",
    "    # and the other is used as more so of after each line."
   ]
  },
  {
   "cell_type": "code",
   "execution_count": 3,
   "id": "6645d056",
   "metadata": {},
   "outputs": [
    {
     "name": "stdout",
     "output_type": "stream",
     "text": [
      "what is the root of existence? \"one would say\" \n",
      "What is the meaning of life? 'one would say ' \n",
      "What gives life meaning to you \\ that is the question\n"
     ]
    }
   ],
   "source": [
    "print(\"what is the root of existence? \\\"one would say\\\" \")\n",
    "print(\"What is the meaning of life? \\'one would say \\' \")\n",
    "print(\"What gives life meaning to you \\\\ that is the question\")\n",
    "\n",
    "#_____________________________________________________________________\n",
    "\n",
    "# SUMMARY:\n",
    "    # Notice how this code is using the different escape characters. "
   ]
  },
  {
   "cell_type": "code",
   "execution_count": 5,
   "id": "bb7215cb",
   "metadata": {},
   "outputs": [
    {
     "name": "stdout",
     "output_type": "stream",
     "text": [
      "12345.68\n"
     ]
    }
   ],
   "source": [
    "\n",
    "print(format(12345.6789, \".2f\"))\n",
    "\n",
    "#_______________________________________________________________\n",
    "\n",
    "# SUMMARY:\n",
    "    # This is format specifier its job is to basically round the given number.\n",
    "    # To the right place value in this case 2 place values.\n",
    "    # The f represent data type in this case we are using float.\n",
    "    # Notice how there is \" \" around the .2f \n",
    "    "
   ]
  },
  {
   "cell_type": "code",
   "execution_count": 6,
   "id": "a2d0edc5",
   "metadata": {},
   "outputs": [
    {
     "name": "stdout",
     "output_type": "stream",
     "text": [
      "1.234568e+04\n"
     ]
    }
   ],
   "source": [
    "print(format(12345.6789, \"e\"))\n",
    "\n",
    "#________________________________________\n",
    "\n",
    "# SUMMARY:\n",
    "    # Format specifer for exponents."
   ]
  },
  {
   "cell_type": "code",
   "execution_count": 7,
   "id": "3ba35694",
   "metadata": {},
   "outputs": [
    {
     "name": "stdout",
     "output_type": "stream",
     "text": [
      "The monthly payment is 416.67\n"
     ]
    }
   ],
   "source": [
    "# This program demonstrates how a floating point\n",
    "# number can be formatted.\n",
    "amount_due = 5000.0\n",
    "monthy_payment = amount_due / 12\n",
    "print(\"The monthly payment is\", format(monthy_payment, \".2f\"))"
   ]
  },
  {
   "cell_type": "code",
   "execution_count": 8,
   "id": "4a39e1af",
   "metadata": {},
   "outputs": [
    {
     "name": "stdout",
     "output_type": "stream",
     "text": [
      "Your annual pay is $60,000.00\n"
     ]
    }
   ],
   "source": [
    "# This program demonstrates how a floating point\n",
    "# number can be displayed as currency.\n",
    "monthly_pay = 5000.0\n",
    "annual_pay = monthly_pay * 12\n",
    "print(\"Your annual pay is $\", format(annual_pay, \",.2f\"), sep=\"\")\n",
    "\n",
    "#_______________________________________________________________\n",
    "\n",
    "# SUMMARY:\n",
    "    # Notice how the sep = \"\" -> its removing space between the $ and the actual number.\n",
    "    # This is showing how you can use a separator and a formatter together.\n",
    "    "
   ]
  },
  {
   "cell_type": "code",
   "execution_count": 10,
   "id": "05b4cba4",
   "metadata": {},
   "outputs": [
    {
     "name": "stdout",
     "output_type": "stream",
     "text": [
      "The number is    12,345.68\n",
      "The number is     12345.68\n"
     ]
    }
   ],
   "source": [
    "print('The number is', format(12345.6789, '12,.2f'))\n",
    "print('The number is', format(12345.6789, '12.2f'))\n",
    "\n",
    "#____________________________________________________\n",
    "\n",
    "# SUMMARY:\n",
    "    # Take a look at the 12 this is serving as the place holder meaning ->\n",
    "    # the code will be indented 12 spaces. The thing to know here is that 12 = spaces wide ->\n",
    "        # , = adding comas to it, .2 = rounding, and the f = float type.\n",
    "    # These numbers are right justified meaning they allign to the right. "
   ]
  },
  {
   "cell_type": "code",
   "execution_count": 11,
   "id": "84e226c8",
   "metadata": {},
   "outputs": [
    {
     "name": "stdout",
     "output_type": "stream",
     "text": [
      " 127.90\n",
      "3465.15\n",
      "   3.78\n",
      " 264.82\n",
      "  88.08\n",
      " 800.00\n"
     ]
    }
   ],
   "source": [
    "# This program displays the following\n",
    "# floating point numbers in a column\n",
    "# with their decimal points aligned.\n",
    "num1 = 127.899\n",
    "num2 = 3465.148\n",
    "num3 = 3.776\n",
    "num4 = 264.821\n",
    "num5 = 88.081\n",
    "num6 = 799.999\n",
    "\n",
    "# Display each number in a field of 7 spaces\n",
    "# with 2 decimal places.\n",
    "print(format(num1, '7.2f'))\n",
    "print(format(num2, '7.2f'))\n",
    "print(format(num3, '7.2f'))\n",
    "print(format(num4, '7.2f'))\n",
    "print(format(num5, '7.2f'))\n",
    "print(format(num6, '7.2f'))\n",
    "\n",
    "#______________________________________________________________\n",
    "\n",
    "# SUMMARY \n",
    "    # These numbers are being right justified.\n",
    "    # Notice how these are being put the equal amount of spaces -> (7)"
   ]
  },
  {
   "cell_type": "code",
   "execution_count": 18,
   "id": "20a05645",
   "metadata": {},
   "outputs": [
    {
     "name": "stdout",
     "output_type": "stream",
     "text": [
      "50.000000%\n",
      "50%\n"
     ]
    }
   ],
   "source": [
    "print(format(0.5, '%'))\n",
    "print(format(0.5, '.0%'))\n",
    "\n",
    "#________________________________________________________\n",
    "\n",
    "# SUMMARY:\n",
    "    # The format specifier -> f (type designator) -> can be used as % to format\n",
    "        # a floating point number as a percentage.\n",
    "    # This symbol causes the number to be MULTIPLIED by 100 and displayed with %.\n",
    "    # Notice the .0 -> it is rounding the answer to appropriate place value ->\n",
    "        # using percentage format specifier you can also ROUND."
   ]
  },
  {
   "cell_type": "code",
   "execution_count": null,
   "id": "e5148e70",
   "metadata": {},
   "outputs": [],
   "source": []
  }
 ],
 "metadata": {
  "kernelspec": {
   "display_name": "Python 3",
   "language": "python",
   "name": "python3"
  },
  "language_info": {
   "codemirror_mode": {
    "name": "ipython",
    "version": 3
   },
   "file_extension": ".py",
   "mimetype": "text/x-python",
   "name": "python",
   "nbconvert_exporter": "python",
   "pygments_lexer": "ipython3",
   "version": "3.8.8"
  }
 },
 "nbformat": 4,
 "nbformat_minor": 5
}
